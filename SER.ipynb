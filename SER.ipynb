{
 "cells": [
  {
   "cell_type": "markdown",
   "metadata": {
    "colab_type": "text",
    "id": "CjWvnaQUrZmD"
   },
   "source": [
    "# Speech Emotion Recognition using librosa\n"
   ]
  },
  {
   "cell_type": "code",
   "execution_count": 1,
   "metadata": {
    "colab": {
     "base_uri": "https://localhost:8080/",
     "height": 228
    },
    "colab_type": "code",
    "id": "N3b7x9shnZwp",
    "outputId": "3c16d672-0775-48b3-ba3d-37825f42da05"
   },
   "outputs": [
    {
     "name": "stdout",
     "output_type": "stream",
     "text": [
      "\u001b[33mWARNING: Value for scheme.platlib does not match. Please report this to <https://github.com/pypa/pip/issues/9617>\n",
      "distutils: /usr/local/lib/python3.8/dist-packages\n",
      "sysconfig: /usr/lib/python3.8/site-packages\u001b[0m\n",
      "\u001b[33mWARNING: Value for scheme.purelib does not match. Please report this to <https://github.com/pypa/pip/issues/9617>\n",
      "distutils: /usr/local/lib/python3.8/dist-packages\n",
      "sysconfig: /usr/lib/python3.8/site-packages\u001b[0m\n",
      "\u001b[33mWARNING: Value for scheme.headers does not match. Please report this to <https://github.com/pypa/pip/issues/9617>\n",
      "distutils: /usr/local/include/python3.8/UNKNOWN\n",
      "sysconfig: /usr/include/python3.8\u001b[0m\n",
      "\u001b[33mWARNING: Value for scheme.scripts does not match. Please report this to <https://github.com/pypa/pip/issues/9617>\n",
      "distutils: /usr/local/bin\n",
      "sysconfig: /usr/bin\u001b[0m\n",
      "\u001b[33mWARNING: Value for scheme.data does not match. Please report this to <https://github.com/pypa/pip/issues/9617>\n",
      "distutils: /usr/local\n",
      "sysconfig: /usr\u001b[0m\n",
      "\u001b[33mWARNING: Additional context:\n",
      "user = False\n",
      "home = None\n",
      "root = None\n",
      "prefix = None\u001b[0m\n",
      "Defaulting to user installation because normal site-packages is not writeable\n",
      "Requirement already satisfied: librosa in /home/aksultan/.local/lib/python3.8/site-packages (0.8.1)\n",
      "Requirement already satisfied: numpy>=1.15.0 in /home/aksultan/.local/lib/python3.8/site-packages (from librosa) (1.19.5)\n",
      "Requirement already satisfied: scikit-learn!=0.19.0,>=0.14.0 in /home/aksultan/.local/lib/python3.8/site-packages (from librosa) (0.24.1)\n",
      "Requirement already satisfied: soundfile>=0.10.2 in /home/aksultan/.local/lib/python3.8/site-packages (from librosa) (0.10.3.post1)\n",
      "Requirement already satisfied: scipy>=1.0.0 in /home/aksultan/.local/lib/python3.8/site-packages (from librosa) (1.6.1)\n",
      "Requirement already satisfied: packaging>=20.0 in /home/aksultan/.local/lib/python3.8/site-packages (from librosa) (20.9)\n",
      "Requirement already satisfied: decorator>=3.0.0 in /home/aksultan/.local/lib/python3.8/site-packages (from librosa) (4.4.2)\n",
      "Requirement already satisfied: joblib>=0.14 in /home/aksultan/.local/lib/python3.8/site-packages (from librosa) (1.0.1)\n",
      "Requirement already satisfied: numba>=0.43.0 in /home/aksultan/.local/lib/python3.8/site-packages (from librosa) (0.53.1)\n",
      "Requirement already satisfied: resampy>=0.2.2 in /home/aksultan/.local/lib/python3.8/site-packages (from librosa) (0.2.2)\n",
      "Requirement already satisfied: audioread>=2.0.0 in /home/aksultan/.local/lib/python3.8/site-packages (from librosa) (2.1.9)\n",
      "Requirement already satisfied: pooch>=1.0 in /home/aksultan/.local/lib/python3.8/site-packages (from librosa) (1.3.0)\n",
      "Requirement already satisfied: setuptools in /home/aksultan/.local/lib/python3.8/site-packages (from numba>=0.43.0->librosa) (49.2.0)\n",
      "Requirement already satisfied: llvmlite<0.37,>=0.36.0rc1 in /home/aksultan/.local/lib/python3.8/site-packages (from numba>=0.43.0->librosa) (0.36.0)\n",
      "Requirement already satisfied: pyparsing>=2.0.2 in /home/aksultan/.local/lib/python3.8/site-packages (from packaging>=20.0->librosa) (2.4.7)\n",
      "Requirement already satisfied: requests in /home/aksultan/.local/lib/python3.8/site-packages (from pooch>=1.0->librosa) (2.25.1)\n",
      "Requirement already satisfied: appdirs in /usr/local/lib/python3.8/dist-packages (from pooch>=1.0->librosa) (1.4.4)\n",
      "Requirement already satisfied: six>=1.3 in /home/aksultan/.local/lib/python3.8/site-packages (from resampy>=0.2.2->librosa) (1.15.0)\n",
      "Requirement already satisfied: threadpoolctl>=2.0.0 in /home/aksultan/.local/lib/python3.8/site-packages (from scikit-learn!=0.19.0,>=0.14.0->librosa) (2.1.0)\n",
      "Requirement already satisfied: cffi>=1.0 in /home/aksultan/.local/lib/python3.8/site-packages (from soundfile>=0.10.2->librosa) (1.14.5)\n",
      "Requirement already satisfied: pycparser in /home/aksultan/.local/lib/python3.8/site-packages (from cffi>=1.0->soundfile>=0.10.2->librosa) (2.20)\n",
      "Requirement already satisfied: chardet<5,>=3.0.2 in /usr/lib/python3/dist-packages (from requests->pooch>=1.0->librosa) (3.0.4)\n",
      "Requirement already satisfied: certifi>=2017.4.17 in /usr/lib/python3/dist-packages (from requests->pooch>=1.0->librosa) (2019.11.28)\n",
      "Requirement already satisfied: idna<3,>=2.5 in /usr/lib/python3/dist-packages (from requests->pooch>=1.0->librosa) (2.8)\n",
      "Requirement already satisfied: urllib3<1.27,>=1.21.1 in /usr/lib/python3/dist-packages (from requests->pooch>=1.0->librosa) (1.25.8)\n",
      "\u001b[33mWARNING: Value for scheme.headers does not match. Please report this to <https://github.com/pypa/pip/issues/9617>\n",
      "distutils: /home/aksultan/.local/include/python3.8/UNKNOWN\n",
      "sysconfig: /home/aksultan/.local/include/python3.8\u001b[0m\n",
      "\u001b[33mWARNING: Additional context:\n",
      "user = True\n",
      "home = None\n",
      "root = None\n",
      "prefix = None\u001b[0m\n",
      "\u001b[33mWARNING: You are using pip version 21.1; however, version 21.1.2 is available.\n",
      "You should consider upgrading via the '/usr/bin/python3 -m pip install --upgrade pip' command.\u001b[0m\n"
     ]
    }
   ],
   "source": [
    "!pip install librosa"
   ]
  },
  {
   "cell_type": "markdown",
   "metadata": {
    "colab_type": "text",
    "id": "ywPJyaHHpOGE"
   },
   "source": [
    "Загрузка одного аудиофайла с помощью librosa.\n",
    "Librosa загружает аудиофайл как временной ряд"
   ]
  },
  {
   "cell_type": "code",
   "execution_count": 2,
   "metadata": {
    "colab": {},
    "colab_type": "code",
    "id": "aWgCbHxAn1_h"
   },
   "outputs": [],
   "source": [
    "import librosa\n",
    "from librosa import display\n",
    "\n",
    "data, sampling_rate = librosa.load('examples/03-01-01-01-01-02-05.wav')"
   ]
  },
  {
   "cell_type": "markdown",
   "metadata": {
    "colab_type": "text",
    "id": "Vi77VvlppM5d"
   },
   "source": [
    "Построение аудиофайла, который только что был загружен librosa, с использованием функции волнового графика librosa. Эта функция строит огибающую амплитуды волны."
   ]
  },
  {
   "cell_type": "code",
   "execution_count": 3,
   "metadata": {
    "colab": {
     "base_uri": "https://localhost:8080/",
     "height": 367
    },
    "colab_type": "code",
    "id": "hZintfRxqK1A",
    "outputId": "bf38ea0c-a176-453b-9ddc-3e4bfb57f2a5"
   },
   "outputs": [
    {
     "name": "stderr",
     "output_type": "stream",
     "text": [
      "UsageError: Line magic function `%` not found.\n"
     ]
    }
   ],
   "source": [
    "% pylab inline\n",
    "import matplotlib.pyplot as plt\n",
    "\n",
    "plt.figure(figsize=(12, 4))\n",
    "librosa.display.waveplot(data, sr=sampling_rate)"
   ]
  },
  {
   "cell_type": "markdown",
   "metadata": {
    "colab_type": "text",
    "id": "jPKKk4wEpMMW"
   },
   "source": [
    "# Load all files\n",
    "\n",
    "Мы создадим наш массив numpy, извлекающий кепстральные коэффициенты Mel-частоты (MFCC), в то время как классы для прогнозирования будут извлечены из имени файла"
   ]
  },
  {
   "cell_type": "code",
   "execution_count": 6,
   "metadata": {
    "colab": {
     "base_uri": "https://localhost:8080/",
     "height": 34
    },
    "colab_type": "code",
    "id": "ZdxY8LUotJCU",
    "outputId": "5e2390c6-afe1-4cea-c73b-db71200ebe49"
   },
   "outputs": [
    {
     "name": "stdout",
     "output_type": "stream",
     "text": [
      "--- Data loaded. Loading time: 0.09074068069458008 seconds ---\n"
     ]
    }
   ],
   "source": [
    "import time\n",
    "import os\n",
    "import numpy as np\n",
    "path = 'examples/'\n",
    "lst = []\n",
    "\n",
    "start_time = time.time()\n",
    "\n",
    "for subdir, dirs, files in os.walk(path):\n",
    "  for file in files:\n",
    "      try:\n",
    "        #Загрузите массив librosa, получите mfcss, сохраните файл и информацию mcss в новом массиве\n",
    "        X, sample_rate = librosa.load(os.path.join(subdir,file), res_type='kaiser_fast')\n",
    "        mfccs = np.mean(librosa.feature.mfcc(y=X, sr=sample_rate, n_mfcc=40).T,axis=0) \n",
    "        # Инструкция ниже преобразует метки (от 1 до 8) в серию от 0 до 7\n",
    "# Это потому, что нашему предиктору нужно начинать с 0, иначе он также попытается предсказать 0.\n",
    "        file = int(file[7:8]) - 1 \n",
    "        arr = mfccs, file\n",
    "        lst.append(arr)\n",
    "      # If the file is not valid, skip it\n",
    "      except ValueError:\n",
    "        continue\n",
    "\n",
    "print(\"--- Data loaded. Loading time: %s seconds ---\" % (time.time() - start_time))"
   ]
  },
  {
   "cell_type": "code",
   "execution_count": 7,
   "metadata": {
    "colab": {},
    "colab_type": "code",
    "id": "Mi8NEOUItS8f"
   },
   "outputs": [],
   "source": [
    "# Creating X and y: zip makes a list of all the first elements, and a list of all the second elements.\n",
    "X, y = zip(*lst)"
   ]
  },
  {
   "cell_type": "code",
   "execution_count": 8,
   "metadata": {
    "colab": {
     "base_uri": "https://localhost:8080/",
     "height": 34
    },
    "colab_type": "code",
    "id": "Gd6hsVYjukTK",
    "outputId": "8de85110-e0d5-4411-a5c6-523c117176dc"
   },
   "outputs": [
    {
     "data": {
      "text/plain": [
       "((2, 40), (2,))"
      ]
     },
     "execution_count": 8,
     "metadata": {},
     "output_type": "execute_result"
    }
   ],
   "source": [
    "import numpy as np\n",
    "X = np.asarray(X)\n",
    "y = np.asarray(y)\n",
    "\n",
    "\n",
    "X.shape, y.shape"
   ]
  },
  {
   "cell_type": "code",
   "execution_count": 9,
   "metadata": {
    "colab": {},
    "colab_type": "code",
    "id": "hK5XIQ4hunMH"
   },
   "outputs": [],
   "source": [
    "# Saving joblib files to not load them again with the loop above\n",
    "\n",
    "import joblib\n",
    "\n",
    "X_name = 'X.joblib'\n",
    "y_name = 'y.joblib'\n",
    "save_dir = 'examples/'\n",
    "\n",
    "savedX = joblib.dump(X, os.path.join(save_dir, X_name))\n",
    "savedy = joblib.dump(y, os.path.join(save_dir, y_name))"
   ]
  },
  {
   "cell_type": "code",
   "execution_count": 10,
   "metadata": {
    "colab": {},
    "colab_type": "code",
    "id": "iMEMavtnu2LB"
   },
   "outputs": [],
   "source": [
    "# Loading saved models\n",
    "import joblib\n",
    "X = joblib.load('dataset_features/X.joblib')\n",
    "y = joblib.load('dataset_features/y.joblib')"
   ]
  },
  {
   "cell_type": "markdown",
   "metadata": {
    "colab_type": "text",
    "id": "Agw-3KN1sDhh"
   },
   "source": [
    "# Decision Tree Classifier\n",
    "\n",
    "Чтобы сделать первую попытку выполнить эту задачу классификации, я выбрал дерево решений:"
   ]
  },
  {
   "cell_type": "code",
   "execution_count": 11,
   "metadata": {
    "colab": {},
    "colab_type": "code",
    "id": "CR4t166IxGdi"
   },
   "outputs": [],
   "source": [
    "from sklearn.model_selection import train_test_split\n",
    "\n",
    "X_train, X_test, y_train, y_test = train_test_split(X,y, test_size=0.33, random_state=42)"
   ]
  },
  {
   "cell_type": "code",
   "execution_count": 12,
   "metadata": {
    "colab": {},
    "colab_type": "code",
    "id": "L_aIVuq9xKgn"
   },
   "outputs": [],
   "source": [
    "from sklearn.tree import DecisionTreeClassifier"
   ]
  },
  {
   "cell_type": "code",
   "execution_count": 13,
   "metadata": {
    "colab": {},
    "colab_type": "code",
    "id": "PRh12VK70wwh"
   },
   "outputs": [],
   "source": [
    "dtree = DecisionTreeClassifier()"
   ]
  },
  {
   "cell_type": "code",
   "execution_count": 14,
   "metadata": {
    "colab": {
     "base_uri": "https://localhost:8080/",
     "height": 122
    },
    "colab_type": "code",
    "id": "jBbgNaz50zPt",
    "outputId": "9c63f143-8108-426a-d682-36284c1634dc"
   },
   "outputs": [
    {
     "data": {
      "text/plain": [
       "DecisionTreeClassifier()"
      ]
     },
     "execution_count": 14,
     "metadata": {},
     "output_type": "execute_result"
    }
   ],
   "source": [
    "dtree.fit(X_train, y_train)"
   ]
  },
  {
   "cell_type": "code",
   "execution_count": 15,
   "metadata": {
    "colab": {},
    "colab_type": "code",
    "id": "xtx3jG6v01v1"
   },
   "outputs": [],
   "source": [
    "predictions = dtree.predict(X_test)"
   ]
  },
  {
   "cell_type": "code",
   "execution_count": 16,
   "metadata": {
    "colab": {
     "base_uri": "https://localhost:8080/",
     "height": 281
    },
    "colab_type": "code",
    "id": "mbWRTHjm06Hn",
    "outputId": "7510b3bb-df6e-4ce1-8ef2-94b019570bc7"
   },
   "outputs": [
    {
     "name": "stdout",
     "output_type": "stream",
     "text": [
      "              precision    recall  f1-score   support\n",
      "\n",
      "           0       0.79      0.80      0.79       192\n",
      "           1       0.63      0.55      0.59       123\n",
      "           2       0.60      0.63      0.62       264\n",
      "           3       0.73      0.67      0.70       275\n",
      "           4       0.70      0.71      0.70       252\n",
      "           5       0.63      0.64      0.63       241\n",
      "           6       0.70      0.72      0.71       197\n",
      "           7       0.56      0.57      0.57       190\n",
      "\n",
      "    accuracy                           0.67      1734\n",
      "   macro avg       0.67      0.66      0.66      1734\n",
      "weighted avg       0.67      0.67      0.67      1734\n",
      "\n"
     ]
    }
   ],
   "source": [
    "from sklearn.metrics import classification_report,confusion_matrix\n",
    "print(classification_report(y_test,predictions))"
   ]
  },
  {
   "cell_type": "markdown",
   "metadata": {
    "colab_type": "text",
    "id": "t9eqMHV3S8i6"
   },
   "source": [
    "# Neural network"
   ]
  },
  {
   "cell_type": "code",
   "execution_count": 17,
   "metadata": {
    "colab": {},
    "colab_type": "code",
    "id": "nIhRgcH3B0gu"
   },
   "outputs": [],
   "source": [
    "import numpy as np\n",
    "x_traincnn = np.expand_dims(X_train, axis=2)\n",
    "x_testcnn = np.expand_dims(X_test, axis=2)"
   ]
  },
  {
   "cell_type": "code",
   "execution_count": 18,
   "metadata": {
    "colab": {
     "base_uri": "https://localhost:8080/",
     "height": 35
    },
    "colab_type": "code",
    "id": "XRg78iarB1OI",
    "outputId": "06b0191f-1dcd-416e-f0e3-01393bb73164"
   },
   "outputs": [
    {
     "data": {
      "text/plain": [
       "((3518, 40, 1), (1734, 40, 1))"
      ]
     },
     "execution_count": 18,
     "metadata": {},
     "output_type": "execute_result"
    }
   ],
   "source": [
    "x_traincnn.shape, x_testcnn.shape"
   ]
  },
  {
   "cell_type": "code",
   "execution_count": 20,
   "metadata": {
    "colab": {
     "base_uri": "https://localhost:8080/",
     "height": 35
    },
    "colab_type": "code",
    "id": "LgYdhmGJB4ur",
    "outputId": "7e07341f-fbad-474c-fa50-b88991b23ebe"
   },
   "outputs": [],
   "source": [
    "import keras\n",
    "import numpy as np\n",
    "import matplotlib.pyplot as plt\n",
    "import tensorflow as tf\n",
    "from keras.preprocessing import sequence\n",
    "from keras.models import Sequential\n",
    "from keras.layers import Dense, Embedding\n",
    "from keras.utils import to_categorical\n",
    "from keras.layers import Input, Flatten, Dropout, Activation\n",
    "from keras.layers import Conv1D, MaxPooling1D\n",
    "from keras.models import Model\n",
    "from keras.callbacks import ModelCheckpoint\n",
    "\n",
    "model = Sequential()\n",
    "\n",
    "model.add(Conv1D(64, 5,padding='same',\n",
    "                 input_shape=(40,1)))\n",
    "model.add(Activation('relu'))\n",
    "model.add(Dropout(0.1))\n",
    "model.add(MaxPooling1D(pool_size=(4)))\n",
    "model.add(Conv1D(128, 5,padding='same',))\n",
    "model.add(Activation('relu'))\n",
    "model.add(Dropout(0.1))\n",
    "model.add(MaxPooling1D(pool_size=(4)))\n",
    "model.add(Conv1D(256, 5,padding='same',))\n",
    "model.add(Activation('relu'))\n",
    "model.add(Dropout(0.1))\n",
    "model.add(Flatten())\n",
    "model.add(Dense(8))\n",
    "model.add(Activation('softmax'))\n",
    "# optimizer = keras.optimizers.RMSprop(lr=0.0003, decay=1e-6)\n",
    "opt = keras.optimizers.RMSprop(lr=0.00005, rho=0.9, epsilon=1e-07, decay=0.0)"
   ]
  },
  {
   "cell_type": "code",
   "execution_count": 22,
   "metadata": {
    "colab": {
     "base_uri": "https://localhost:8080/",
     "height": 657
    },
    "colab_type": "code",
    "id": "ImZFafVANMP_",
    "outputId": "d03e9f1d-9bd0-4a99-f9be-cf9b889d679a"
   },
   "outputs": [
    {
     "name": "stdout",
     "output_type": "stream",
     "text": [
      "Model: \"sequential_1\"\n",
      "_________________________________________________________________\n",
      "Layer (type)                 Output Shape              Param #   \n",
      "=================================================================\n",
      "conv1d_3 (Conv1D)            (None, 40, 64)            384       \n",
      "_________________________________________________________________\n",
      "activation_4 (Activation)    (None, 40, 64)            0         \n",
      "_________________________________________________________________\n",
      "dropout_3 (Dropout)          (None, 40, 64)            0         \n",
      "_________________________________________________________________\n",
      "max_pooling1d_2 (MaxPooling1 (None, 10, 64)            0         \n",
      "_________________________________________________________________\n",
      "conv1d_4 (Conv1D)            (None, 10, 128)           41088     \n",
      "_________________________________________________________________\n",
      "activation_5 (Activation)    (None, 10, 128)           0         \n",
      "_________________________________________________________________\n",
      "dropout_4 (Dropout)          (None, 10, 128)           0         \n",
      "_________________________________________________________________\n",
      "max_pooling1d_3 (MaxPooling1 (None, 2, 128)            0         \n",
      "_________________________________________________________________\n",
      "conv1d_5 (Conv1D)            (None, 2, 256)            164096    \n",
      "_________________________________________________________________\n",
      "activation_6 (Activation)    (None, 2, 256)            0         \n",
      "_________________________________________________________________\n",
      "dropout_5 (Dropout)          (None, 2, 256)            0         \n",
      "_________________________________________________________________\n",
      "flatten_1 (Flatten)          (None, 512)               0         \n",
      "_________________________________________________________________\n",
      "dense_1 (Dense)              (None, 8)                 4104      \n",
      "_________________________________________________________________\n",
      "activation_7 (Activation)    (None, 8)                 0         \n",
      "=================================================================\n",
      "Total params: 209,672\n",
      "Trainable params: 209,672\n",
      "Non-trainable params: 0\n",
      "_________________________________________________________________\n"
     ]
    }
   ],
   "source": [
    "model.summary()"
   ]
  },
  {
   "cell_type": "code",
   "execution_count": 23,
   "metadata": {
    "colab": {},
    "colab_type": "code",
    "id": "s8LuQtKzON7i"
   },
   "outputs": [],
   "source": [
    "model.compile(loss='sparse_categorical_crossentropy',\n",
    "              optimizer=opt,\n",
    "              metrics=['accuracy'])"
   ]
  },
  {
   "cell_type": "code",
   "execution_count": 24,
   "metadata": {
    "colab": {
     "base_uri": "https://localhost:8080/",
     "height": 1000
    },
    "colab_type": "code",
    "id": "cQKYfMONOow7",
    "outputId": "6fc8e1ad-5271-4f86-f238-fee2045ade1e"
   },
   "outputs": [
    {
     "name": "stdout",
     "output_type": "stream",
     "text": [
      "Epoch 1/200\n",
      "220/220 [==============================] - 1s 3ms/step - loss: 5.2613 - accuracy: 0.1287 - val_loss: 1.8035 - val_accuracy: 0.3512\n",
      "Epoch 2/200\n",
      "220/220 [==============================] - 1s 3ms/step - loss: 2.5813 - accuracy: 0.2708 - val_loss: 1.4748 - val_accuracy: 0.4550\n",
      "Epoch 3/200\n",
      "220/220 [==============================] - 1s 3ms/step - loss: 1.9235 - accuracy: 0.4045 - val_loss: 1.4097 - val_accuracy: 0.5098\n",
      "Epoch 4/200\n",
      "220/220 [==============================] - 1s 3ms/step - loss: 1.6407 - accuracy: 0.4475 - val_loss: 1.2237 - val_accuracy: 0.5669\n",
      "Epoch 5/200\n",
      "220/220 [==============================] - 1s 4ms/step - loss: 1.4719 - accuracy: 0.5080 - val_loss: 1.1869 - val_accuracy: 0.5750\n",
      "Epoch 6/200\n",
      "220/220 [==============================] - 2s 7ms/step - loss: 1.3974 - accuracy: 0.5242 - val_loss: 1.1721 - val_accuracy: 0.5819\n",
      "Epoch 7/200\n",
      "220/220 [==============================] - 1s 4ms/step - loss: 1.2495 - accuracy: 0.5803 - val_loss: 1.0838 - val_accuracy: 0.6251\n",
      "Epoch 8/200\n",
      "220/220 [==============================] - 1s 3ms/step - loss: 1.2162 - accuracy: 0.5657 - val_loss: 1.0244 - val_accuracy: 0.6275\n",
      "Epoch 9/200\n",
      "220/220 [==============================] - 1s 4ms/step - loss: 1.1837 - accuracy: 0.5850 - val_loss: 1.0273 - val_accuracy: 0.6182\n",
      "Epoch 10/200\n",
      "220/220 [==============================] - 1s 3ms/step - loss: 1.1000 - accuracy: 0.6041 - val_loss: 0.9731 - val_accuracy: 0.6517\n",
      "Epoch 11/200\n",
      "220/220 [==============================] - 1s 5ms/step - loss: 1.0567 - accuracy: 0.6317 - val_loss: 0.9204 - val_accuracy: 0.6672\n",
      "Epoch 12/200\n",
      "220/220 [==============================] - 1s 3ms/step - loss: 1.0549 - accuracy: 0.6282 - val_loss: 0.9439 - val_accuracy: 0.6540\n",
      "Epoch 13/200\n",
      "220/220 [==============================] - 1s 3ms/step - loss: 1.0142 - accuracy: 0.6476 - val_loss: 0.8985 - val_accuracy: 0.6736\n",
      "Epoch 14/200\n",
      "220/220 [==============================] - 1s 3ms/step - loss: 0.9923 - accuracy: 0.6479 - val_loss: 0.8748 - val_accuracy: 0.6863\n",
      "Epoch 15/200\n",
      "220/220 [==============================] - 1s 3ms/step - loss: 0.9528 - accuracy: 0.6617 - val_loss: 0.8598 - val_accuracy: 0.6880\n",
      "Epoch 16/200\n",
      "220/220 [==============================] - 1s 3ms/step - loss: 0.9099 - accuracy: 0.6645 - val_loss: 0.8462 - val_accuracy: 0.6736\n",
      "Epoch 17/200\n",
      "220/220 [==============================] - 1s 3ms/step - loss: 0.8920 - accuracy: 0.6761 - val_loss: 0.8082 - val_accuracy: 0.7036\n",
      "Epoch 18/200\n",
      "220/220 [==============================] - 1s 3ms/step - loss: 0.9147 - accuracy: 0.6646 - val_loss: 0.8232 - val_accuracy: 0.7036\n",
      "Epoch 19/200\n",
      "220/220 [==============================] - 1s 3ms/step - loss: 0.8664 - accuracy: 0.6871 - val_loss: 0.7994 - val_accuracy: 0.7093\n",
      "Epoch 20/200\n",
      "220/220 [==============================] - 1s 3ms/step - loss: 0.8415 - accuracy: 0.6924 - val_loss: 0.8131 - val_accuracy: 0.6984\n",
      "Epoch 21/200\n",
      "220/220 [==============================] - 1s 3ms/step - loss: 0.8386 - accuracy: 0.6955 - val_loss: 0.7756 - val_accuracy: 0.7088\n",
      "Epoch 22/200\n",
      "220/220 [==============================] - 1s 3ms/step - loss: 0.8265 - accuracy: 0.7049 - val_loss: 0.8012 - val_accuracy: 0.6984\n",
      "Epoch 23/200\n",
      "220/220 [==============================] - 1s 3ms/step - loss: 0.8352 - accuracy: 0.6883 - val_loss: 0.7781 - val_accuracy: 0.7076\n",
      "Epoch 24/200\n",
      "220/220 [==============================] - 1s 3ms/step - loss: 0.8380 - accuracy: 0.6976 - val_loss: 0.7858 - val_accuracy: 0.7018\n",
      "Epoch 25/200\n",
      "220/220 [==============================] - 1s 3ms/step - loss: 0.8116 - accuracy: 0.7031 - val_loss: 0.7519 - val_accuracy: 0.7157\n",
      "Epoch 26/200\n",
      "220/220 [==============================] - 1s 3ms/step - loss: 0.8035 - accuracy: 0.6951 - val_loss: 0.7498 - val_accuracy: 0.7290\n",
      "Epoch 27/200\n",
      "220/220 [==============================] - 1s 3ms/step - loss: 0.8041 - accuracy: 0.7013 - val_loss: 0.7323 - val_accuracy: 0.7399\n",
      "Epoch 28/200\n",
      "220/220 [==============================] - 1s 3ms/step - loss: 0.7602 - accuracy: 0.7120 - val_loss: 0.7357 - val_accuracy: 0.7128\n",
      "Epoch 29/200\n",
      "220/220 [==============================] - 1s 3ms/step - loss: 0.7761 - accuracy: 0.7113 - val_loss: 0.7443 - val_accuracy: 0.7249\n",
      "Epoch 30/200\n",
      "220/220 [==============================] - 1s 3ms/step - loss: 0.7419 - accuracy: 0.7296 - val_loss: 0.7304 - val_accuracy: 0.7307\n",
      "Epoch 31/200\n",
      "220/220 [==============================] - 1s 3ms/step - loss: 0.7230 - accuracy: 0.7297 - val_loss: 0.7189 - val_accuracy: 0.7341\n",
      "Epoch 32/200\n",
      "220/220 [==============================] - 1s 3ms/step - loss: 0.7243 - accuracy: 0.7430 - val_loss: 0.7055 - val_accuracy: 0.7382\n",
      "Epoch 33/200\n",
      "220/220 [==============================] - 1s 3ms/step - loss: 0.7116 - accuracy: 0.7326 - val_loss: 0.7159 - val_accuracy: 0.7255\n",
      "Epoch 34/200\n",
      "220/220 [==============================] - 1s 3ms/step - loss: 0.7513 - accuracy: 0.7259 - val_loss: 0.6922 - val_accuracy: 0.7480\n",
      "Epoch 35/200\n",
      "220/220 [==============================] - 1s 3ms/step - loss: 0.7079 - accuracy: 0.7375 - val_loss: 0.6929 - val_accuracy: 0.7347\n",
      "Epoch 36/200\n",
      "220/220 [==============================] - 1s 3ms/step - loss: 0.6960 - accuracy: 0.7446 - val_loss: 0.6813 - val_accuracy: 0.7520\n",
      "Epoch 37/200\n",
      "220/220 [==============================] - 1s 3ms/step - loss: 0.7140 - accuracy: 0.7250 - val_loss: 0.7254 - val_accuracy: 0.7330\n",
      "Epoch 38/200\n",
      "220/220 [==============================] - 1s 3ms/step - loss: 0.6817 - accuracy: 0.7456 - val_loss: 0.6801 - val_accuracy: 0.7491\n",
      "Epoch 39/200\n",
      "220/220 [==============================] - 1s 3ms/step - loss: 0.7313 - accuracy: 0.7339 - val_loss: 0.6577 - val_accuracy: 0.7607\n",
      "Epoch 40/200\n",
      "220/220 [==============================] - 1s 3ms/step - loss: 0.7191 - accuracy: 0.7365 - val_loss: 0.6763 - val_accuracy: 0.7457\n",
      "Epoch 41/200\n",
      "220/220 [==============================] - 1s 4ms/step - loss: 0.7118 - accuracy: 0.7341 - val_loss: 0.6576 - val_accuracy: 0.7584\n",
      "Epoch 42/200\n",
      "220/220 [==============================] - 1s 3ms/step - loss: 0.6596 - accuracy: 0.7427 - val_loss: 0.6548 - val_accuracy: 0.7555\n",
      "Epoch 43/200\n",
      "220/220 [==============================] - 1s 3ms/step - loss: 0.6822 - accuracy: 0.7465 - val_loss: 0.6590 - val_accuracy: 0.7555\n",
      "Epoch 44/200\n",
      "220/220 [==============================] - 1s 3ms/step - loss: 0.6762 - accuracy: 0.7475 - val_loss: 0.6523 - val_accuracy: 0.7630\n",
      "Epoch 45/200\n",
      "220/220 [==============================] - 1s 3ms/step - loss: 0.6635 - accuracy: 0.7580 - val_loss: 0.6460 - val_accuracy: 0.7630\n",
      "Epoch 46/200\n",
      "220/220 [==============================] - 1s 3ms/step - loss: 0.6438 - accuracy: 0.7585 - val_loss: 0.6343 - val_accuracy: 0.7699\n",
      "Epoch 47/200\n",
      "220/220 [==============================] - 1s 3ms/step - loss: 0.6697 - accuracy: 0.7474 - val_loss: 0.6423 - val_accuracy: 0.7734\n",
      "Epoch 48/200\n",
      "220/220 [==============================] - 1s 3ms/step - loss: 0.6547 - accuracy: 0.7619 - val_loss: 0.6274 - val_accuracy: 0.7728\n",
      "Epoch 49/200\n",
      "220/220 [==============================] - 1s 3ms/step - loss: 0.6638 - accuracy: 0.7601 - val_loss: 0.6499 - val_accuracy: 0.7589\n",
      "Epoch 50/200\n",
      "220/220 [==============================] - 1s 3ms/step - loss: 0.6256 - accuracy: 0.7635 - val_loss: 0.6184 - val_accuracy: 0.7722\n",
      "Epoch 51/200\n",
      "220/220 [==============================] - 1s 3ms/step - loss: 0.6503 - accuracy: 0.7646 - val_loss: 0.6287 - val_accuracy: 0.7693\n",
      "Epoch 52/200\n",
      "220/220 [==============================] - 1s 3ms/step - loss: 0.6337 - accuracy: 0.7729 - val_loss: 0.6351 - val_accuracy: 0.7687\n",
      "Epoch 53/200\n",
      "220/220 [==============================] - 1s 3ms/step - loss: 0.6041 - accuracy: 0.7804 - val_loss: 0.6102 - val_accuracy: 0.7803\n",
      "Epoch 54/200\n",
      "220/220 [==============================] - 1s 3ms/step - loss: 0.5999 - accuracy: 0.7846 - val_loss: 0.6215 - val_accuracy: 0.7693\n",
      "Epoch 55/200\n",
      "220/220 [==============================] - 1s 3ms/step - loss: 0.6147 - accuracy: 0.7770 - val_loss: 0.6021 - val_accuracy: 0.7751\n",
      "Epoch 56/200\n",
      "220/220 [==============================] - 1s 3ms/step - loss: 0.5946 - accuracy: 0.7811 - val_loss: 0.6186 - val_accuracy: 0.7785\n",
      "Epoch 57/200\n",
      "220/220 [==============================] - 1s 3ms/step - loss: 0.6076 - accuracy: 0.7762 - val_loss: 0.6049 - val_accuracy: 0.7762\n"
     ]
    },
    {
     "name": "stdout",
     "output_type": "stream",
     "text": [
      "Epoch 58/200\n",
      "220/220 [==============================] - 1s 3ms/step - loss: 0.6180 - accuracy: 0.7721 - val_loss: 0.6059 - val_accuracy: 0.7739\n",
      "Epoch 59/200\n",
      "220/220 [==============================] - 1s 3ms/step - loss: 0.5903 - accuracy: 0.7738 - val_loss: 0.5903 - val_accuracy: 0.7791\n",
      "Epoch 60/200\n",
      "220/220 [==============================] - 1s 3ms/step - loss: 0.5785 - accuracy: 0.7784 - val_loss: 0.6077 - val_accuracy: 0.7728\n",
      "Epoch 61/200\n",
      "220/220 [==============================] - 1s 3ms/step - loss: 0.5649 - accuracy: 0.7849 - val_loss: 0.5854 - val_accuracy: 0.7901\n",
      "Epoch 62/200\n",
      "220/220 [==============================] - 1s 3ms/step - loss: 0.5879 - accuracy: 0.7863 - val_loss: 0.5848 - val_accuracy: 0.7820\n",
      "Epoch 63/200\n",
      "220/220 [==============================] - 1s 3ms/step - loss: 0.5671 - accuracy: 0.7956 - val_loss: 0.5811 - val_accuracy: 0.7860\n",
      "Epoch 64/200\n",
      "220/220 [==============================] - 1s 3ms/step - loss: 0.6020 - accuracy: 0.7777 - val_loss: 0.5808 - val_accuracy: 0.7895\n",
      "Epoch 65/200\n",
      "220/220 [==============================] - 1s 3ms/step - loss: 0.5723 - accuracy: 0.7850 - val_loss: 0.5829 - val_accuracy: 0.7837\n",
      "Epoch 66/200\n",
      "220/220 [==============================] - 1s 3ms/step - loss: 0.5580 - accuracy: 0.7972 - val_loss: 0.5660 - val_accuracy: 0.7912\n",
      "Epoch 67/200\n",
      "220/220 [==============================] - 1s 3ms/step - loss: 0.5744 - accuracy: 0.7941 - val_loss: 0.5750 - val_accuracy: 0.7935\n",
      "Epoch 68/200\n",
      "220/220 [==============================] - 1s 3ms/step - loss: 0.5619 - accuracy: 0.7925 - val_loss: 0.5819 - val_accuracy: 0.7884\n",
      "Epoch 69/200\n",
      "220/220 [==============================] - 1s 3ms/step - loss: 0.5595 - accuracy: 0.8018 - val_loss: 0.5632 - val_accuracy: 0.7987\n",
      "Epoch 70/200\n",
      "220/220 [==============================] - 1s 3ms/step - loss: 0.5501 - accuracy: 0.8015 - val_loss: 0.5812 - val_accuracy: 0.7930\n",
      "Epoch 71/200\n",
      "220/220 [==============================] - 1s 3ms/step - loss: 0.5550 - accuracy: 0.7973 - val_loss: 0.5569 - val_accuracy: 0.7924\n",
      "Epoch 72/200\n",
      "220/220 [==============================] - 1s 3ms/step - loss: 0.5439 - accuracy: 0.8013 - val_loss: 0.5641 - val_accuracy: 0.7947\n",
      "Epoch 73/200\n",
      "220/220 [==============================] - 1s 3ms/step - loss: 0.5360 - accuracy: 0.8104 - val_loss: 0.5591 - val_accuracy: 0.7964\n",
      "Epoch 74/200\n",
      "220/220 [==============================] - 1s 3ms/step - loss: 0.5248 - accuracy: 0.8096 - val_loss: 0.5461 - val_accuracy: 0.7970\n",
      "Epoch 75/200\n",
      "220/220 [==============================] - 1s 3ms/step - loss: 0.5369 - accuracy: 0.8065 - val_loss: 0.5663 - val_accuracy: 0.7935\n",
      "Epoch 76/200\n",
      "220/220 [==============================] - 1s 3ms/step - loss: 0.4953 - accuracy: 0.8235 - val_loss: 0.5546 - val_accuracy: 0.7884\n",
      "Epoch 77/200\n",
      "220/220 [==============================] - 1s 3ms/step - loss: 0.5121 - accuracy: 0.8049 - val_loss: 0.5493 - val_accuracy: 0.8010\n",
      "Epoch 78/200\n",
      "220/220 [==============================] - 1s 3ms/step - loss: 0.5236 - accuracy: 0.8097 - val_loss: 0.5656 - val_accuracy: 0.7924\n",
      "Epoch 79/200\n",
      "220/220 [==============================] - 1s 4ms/step - loss: 0.5505 - accuracy: 0.7932 - val_loss: 0.5714 - val_accuracy: 0.7878\n",
      "Epoch 80/200\n",
      "220/220 [==============================] - 1s 4ms/step - loss: 0.5242 - accuracy: 0.8037 - val_loss: 0.5548 - val_accuracy: 0.7953\n",
      "Epoch 81/200\n",
      "220/220 [==============================] - 1s 3ms/step - loss: 0.5211 - accuracy: 0.8020 - val_loss: 0.5417 - val_accuracy: 0.8057\n",
      "Epoch 82/200\n",
      "220/220 [==============================] - 1s 3ms/step - loss: 0.5058 - accuracy: 0.8152 - val_loss: 0.5401 - val_accuracy: 0.7976\n",
      "Epoch 83/200\n",
      "220/220 [==============================] - 1s 3ms/step - loss: 0.5248 - accuracy: 0.8050 - val_loss: 0.5359 - val_accuracy: 0.8039\n",
      "Epoch 84/200\n",
      "220/220 [==============================] - 1s 3ms/step - loss: 0.5216 - accuracy: 0.8101 - val_loss: 0.5510 - val_accuracy: 0.7987\n",
      "Epoch 85/200\n",
      "220/220 [==============================] - 1s 3ms/step - loss: 0.5073 - accuracy: 0.8144 - val_loss: 0.5498 - val_accuracy: 0.7930\n",
      "Epoch 86/200\n",
      "220/220 [==============================] - 1s 4ms/step - loss: 0.4786 - accuracy: 0.8266 - val_loss: 0.5363 - val_accuracy: 0.8033\n",
      "Epoch 87/200\n",
      "220/220 [==============================] - 1s 3ms/step - loss: 0.4836 - accuracy: 0.8245 - val_loss: 0.5425 - val_accuracy: 0.7987\n",
      "Epoch 88/200\n",
      "220/220 [==============================] - 1s 3ms/step - loss: 0.5043 - accuracy: 0.8132 - val_loss: 0.5378 - val_accuracy: 0.8016\n",
      "Epoch 89/200\n",
      "220/220 [==============================] - 1s 3ms/step - loss: 0.4997 - accuracy: 0.8214 - val_loss: 0.5520 - val_accuracy: 0.7953\n",
      "Epoch 90/200\n",
      "220/220 [==============================] - 1s 3ms/step - loss: 0.4855 - accuracy: 0.8335 - val_loss: 0.5416 - val_accuracy: 0.7976\n",
      "Epoch 91/200\n",
      "220/220 [==============================] - 1s 3ms/step - loss: 0.4771 - accuracy: 0.8242 - val_loss: 0.5414 - val_accuracy: 0.7993\n",
      "Epoch 92/200\n",
      "220/220 [==============================] - 1s 3ms/step - loss: 0.4955 - accuracy: 0.8115 - val_loss: 0.5358 - val_accuracy: 0.8028\n",
      "Epoch 93/200\n",
      "220/220 [==============================] - 1s 3ms/step - loss: 0.4808 - accuracy: 0.8237 - val_loss: 0.5261 - val_accuracy: 0.8074\n",
      "Epoch 94/200\n",
      "220/220 [==============================] - 1s 3ms/step - loss: 0.4657 - accuracy: 0.8238 - val_loss: 0.5201 - val_accuracy: 0.8062\n",
      "Epoch 95/200\n",
      "220/220 [==============================] - 1s 3ms/step - loss: 0.4894 - accuracy: 0.8196 - val_loss: 0.5346 - val_accuracy: 0.8010\n",
      "Epoch 96/200\n",
      "220/220 [==============================] - 1s 3ms/step - loss: 0.4780 - accuracy: 0.8274 - val_loss: 0.5167 - val_accuracy: 0.8080\n",
      "Epoch 97/200\n",
      "220/220 [==============================] - 1s 3ms/step - loss: 0.4529 - accuracy: 0.8269 - val_loss: 0.5121 - val_accuracy: 0.8114\n",
      "Epoch 98/200\n",
      "220/220 [==============================] - 1s 3ms/step - loss: 0.4526 - accuracy: 0.8255 - val_loss: 0.5165 - val_accuracy: 0.8120\n",
      "Epoch 99/200\n",
      "220/220 [==============================] - 1s 3ms/step - loss: 0.4644 - accuracy: 0.8264 - val_loss: 0.5185 - val_accuracy: 0.8045\n",
      "Epoch 100/200\n",
      "220/220 [==============================] - 1s 3ms/step - loss: 0.4628 - accuracy: 0.8341 - val_loss: 0.5211 - val_accuracy: 0.8028\n",
      "Epoch 101/200\n",
      "220/220 [==============================] - 1s 3ms/step - loss: 0.4379 - accuracy: 0.8459 - val_loss: 0.5171 - val_accuracy: 0.8033\n",
      "Epoch 102/200\n",
      "220/220 [==============================] - 1s 3ms/step - loss: 0.4698 - accuracy: 0.8274 - val_loss: 0.5042 - val_accuracy: 0.8131\n",
      "Epoch 103/200\n",
      "220/220 [==============================] - 1s 3ms/step - loss: 0.4472 - accuracy: 0.8409 - val_loss: 0.4984 - val_accuracy: 0.8120\n",
      "Epoch 104/200\n",
      "220/220 [==============================] - 1s 3ms/step - loss: 0.4189 - accuracy: 0.8451 - val_loss: 0.5059 - val_accuracy: 0.8126\n",
      "Epoch 105/200\n",
      "220/220 [==============================] - 1s 3ms/step - loss: 0.4464 - accuracy: 0.8373 - val_loss: 0.5087 - val_accuracy: 0.8074\n",
      "Epoch 106/200\n",
      "220/220 [==============================] - 1s 3ms/step - loss: 0.4431 - accuracy: 0.8403 - val_loss: 0.5067 - val_accuracy: 0.8103\n",
      "Epoch 107/200\n",
      "220/220 [==============================] - 1s 3ms/step - loss: 0.4504 - accuracy: 0.8354 - val_loss: 0.5058 - val_accuracy: 0.8114\n",
      "Epoch 108/200\n",
      "220/220 [==============================] - 1s 3ms/step - loss: 0.4501 - accuracy: 0.8407 - val_loss: 0.5057 - val_accuracy: 0.8057\n",
      "Epoch 109/200\n",
      "220/220 [==============================] - 1s 3ms/step - loss: 0.4477 - accuracy: 0.8407 - val_loss: 0.4949 - val_accuracy: 0.8143\n",
      "Epoch 110/200\n",
      "220/220 [==============================] - 1s 3ms/step - loss: 0.4444 - accuracy: 0.8350 - val_loss: 0.4996 - val_accuracy: 0.8172\n",
      "Epoch 111/200\n",
      "220/220 [==============================] - 1s 3ms/step - loss: 0.4147 - accuracy: 0.8479 - val_loss: 0.4945 - val_accuracy: 0.8137\n",
      "Epoch 112/200\n",
      "220/220 [==============================] - 1s 3ms/step - loss: 0.4538 - accuracy: 0.8266 - val_loss: 0.5018 - val_accuracy: 0.8091\n",
      "Epoch 113/200\n",
      "220/220 [==============================] - 1s 3ms/step - loss: 0.4135 - accuracy: 0.8427 - val_loss: 0.5153 - val_accuracy: 0.8097\n",
      "Epoch 114/200\n",
      "220/220 [==============================] - 1s 3ms/step - loss: 0.4090 - accuracy: 0.8548 - val_loss: 0.5039 - val_accuracy: 0.8126\n"
     ]
    },
    {
     "name": "stdout",
     "output_type": "stream",
     "text": [
      "Epoch 115/200\n",
      "220/220 [==============================] - 1s 3ms/step - loss: 0.4359 - accuracy: 0.8315 - val_loss: 0.4942 - val_accuracy: 0.8166\n",
      "Epoch 116/200\n",
      "220/220 [==============================] - 1s 3ms/step - loss: 0.4144 - accuracy: 0.8512 - val_loss: 0.4914 - val_accuracy: 0.8206\n",
      "Epoch 117/200\n",
      "220/220 [==============================] - 1s 3ms/step - loss: 0.4083 - accuracy: 0.8443 - val_loss: 0.5159 - val_accuracy: 0.8085\n",
      "Epoch 118/200\n",
      "220/220 [==============================] - 1s 3ms/step - loss: 0.4066 - accuracy: 0.8547 - val_loss: 0.4883 - val_accuracy: 0.8160\n",
      "Epoch 119/200\n",
      "220/220 [==============================] - 1s 3ms/step - loss: 0.4017 - accuracy: 0.8520 - val_loss: 0.4912 - val_accuracy: 0.8241\n",
      "Epoch 120/200\n",
      "220/220 [==============================] - 1s 3ms/step - loss: 0.4272 - accuracy: 0.8398 - val_loss: 0.4831 - val_accuracy: 0.8195\n",
      "Epoch 121/200\n",
      "220/220 [==============================] - 1s 3ms/step - loss: 0.4208 - accuracy: 0.8412 - val_loss: 0.5020 - val_accuracy: 0.8126\n",
      "Epoch 122/200\n",
      "220/220 [==============================] - 1s 3ms/step - loss: 0.3707 - accuracy: 0.8648 - val_loss: 0.4913 - val_accuracy: 0.8189\n",
      "Epoch 123/200\n",
      "220/220 [==============================] - 1s 3ms/step - loss: 0.4255 - accuracy: 0.8490 - val_loss: 0.4859 - val_accuracy: 0.8195\n",
      "Epoch 124/200\n",
      "220/220 [==============================] - 1s 3ms/step - loss: 0.4040 - accuracy: 0.8512 - val_loss: 0.4936 - val_accuracy: 0.8108\n",
      "Epoch 125/200\n",
      "220/220 [==============================] - 1s 3ms/step - loss: 0.4030 - accuracy: 0.8491 - val_loss: 0.4840 - val_accuracy: 0.8195\n",
      "Epoch 126/200\n",
      "220/220 [==============================] - 1s 3ms/step - loss: 0.3978 - accuracy: 0.8583 - val_loss: 0.4967 - val_accuracy: 0.8114\n",
      "Epoch 127/200\n",
      "220/220 [==============================] - 1s 3ms/step - loss: 0.4045 - accuracy: 0.8572 - val_loss: 0.4926 - val_accuracy: 0.8160\n",
      "Epoch 128/200\n",
      "220/220 [==============================] - 1s 3ms/step - loss: 0.3832 - accuracy: 0.8600 - val_loss: 0.4827 - val_accuracy: 0.8212\n",
      "Epoch 129/200\n",
      "220/220 [==============================] - 1s 3ms/step - loss: 0.3856 - accuracy: 0.8639 - val_loss: 0.4931 - val_accuracy: 0.8160\n",
      "Epoch 130/200\n",
      "220/220 [==============================] - 1s 3ms/step - loss: 0.3990 - accuracy: 0.8566 - val_loss: 0.4770 - val_accuracy: 0.8212\n",
      "Epoch 131/200\n",
      "220/220 [==============================] - 1s 3ms/step - loss: 0.3899 - accuracy: 0.8606 - val_loss: 0.4699 - val_accuracy: 0.8281\n",
      "Epoch 132/200\n",
      "220/220 [==============================] - 1s 3ms/step - loss: 0.3873 - accuracy: 0.8595 - val_loss: 0.4814 - val_accuracy: 0.8224\n",
      "Epoch 133/200\n",
      "220/220 [==============================] - 1s 3ms/step - loss: 0.3969 - accuracy: 0.8603 - val_loss: 0.4709 - val_accuracy: 0.8247\n",
      "Epoch 134/200\n",
      "220/220 [==============================] - 1s 3ms/step - loss: 0.3590 - accuracy: 0.8720 - val_loss: 0.4846 - val_accuracy: 0.8155\n",
      "Epoch 135/200\n",
      "220/220 [==============================] - 1s 3ms/step - loss: 0.4036 - accuracy: 0.8587 - val_loss: 0.4932 - val_accuracy: 0.8195\n",
      "Epoch 136/200\n",
      "220/220 [==============================] - 1s 3ms/step - loss: 0.3896 - accuracy: 0.8533 - val_loss: 0.4818 - val_accuracy: 0.8160\n",
      "Epoch 137/200\n",
      "220/220 [==============================] - 1s 3ms/step - loss: 0.3715 - accuracy: 0.8654 - val_loss: 0.4728 - val_accuracy: 0.8212\n",
      "Epoch 138/200\n",
      "220/220 [==============================] - 1s 3ms/step - loss: 0.3687 - accuracy: 0.8598 - val_loss: 0.4736 - val_accuracy: 0.8195\n",
      "Epoch 139/200\n",
      "220/220 [==============================] - 1s 3ms/step - loss: 0.3555 - accuracy: 0.8730 - val_loss: 0.4714 - val_accuracy: 0.8131\n",
      "Epoch 140/200\n",
      "220/220 [==============================] - 1s 3ms/step - loss: 0.3748 - accuracy: 0.8627 - val_loss: 0.4706 - val_accuracy: 0.8218\n",
      "Epoch 141/200\n",
      "220/220 [==============================] - 1s 3ms/step - loss: 0.3514 - accuracy: 0.8681 - val_loss: 0.4786 - val_accuracy: 0.8201\n",
      "Epoch 142/200\n",
      "220/220 [==============================] - 1s 3ms/step - loss: 0.3765 - accuracy: 0.8711 - val_loss: 0.4671 - val_accuracy: 0.8299\n",
      "Epoch 143/200\n",
      "220/220 [==============================] - 1s 3ms/step - loss: 0.3729 - accuracy: 0.8665 - val_loss: 0.4800 - val_accuracy: 0.8224\n",
      "Epoch 144/200\n",
      "220/220 [==============================] - 1s 3ms/step - loss: 0.3437 - accuracy: 0.8750 - val_loss: 0.4781 - val_accuracy: 0.8206\n",
      "Epoch 145/200\n",
      "220/220 [==============================] - 1s 3ms/step - loss: 0.3742 - accuracy: 0.8629 - val_loss: 0.4803 - val_accuracy: 0.8166\n",
      "Epoch 146/200\n",
      "220/220 [==============================] - 1s 3ms/step - loss: 0.3886 - accuracy: 0.8530 - val_loss: 0.4644 - val_accuracy: 0.8316\n",
      "Epoch 147/200\n",
      "220/220 [==============================] - 1s 3ms/step - loss: 0.3510 - accuracy: 0.8731 - val_loss: 0.4758 - val_accuracy: 0.8224\n",
      "Epoch 148/200\n",
      "220/220 [==============================] - 1s 3ms/step - loss: 0.3507 - accuracy: 0.8714 - val_loss: 0.4886 - val_accuracy: 0.8206\n",
      "Epoch 149/200\n",
      "220/220 [==============================] - 1s 3ms/step - loss: 0.3502 - accuracy: 0.8747 - val_loss: 0.4861 - val_accuracy: 0.8241\n",
      "Epoch 150/200\n",
      "220/220 [==============================] - 1s 3ms/step - loss: 0.3555 - accuracy: 0.8721 - val_loss: 0.4783 - val_accuracy: 0.8230\n",
      "Epoch 151/200\n",
      "220/220 [==============================] - 1s 4ms/step - loss: 0.3482 - accuracy: 0.8809 - val_loss: 0.4824 - val_accuracy: 0.8195\n",
      "Epoch 152/200\n",
      "220/220 [==============================] - 1s 4ms/step - loss: 0.3585 - accuracy: 0.8732 - val_loss: 0.4649 - val_accuracy: 0.8316\n",
      "Epoch 153/200\n",
      "220/220 [==============================] - 1s 3ms/step - loss: 0.3646 - accuracy: 0.8690 - val_loss: 0.4768 - val_accuracy: 0.8241\n",
      "Epoch 154/200\n",
      "220/220 [==============================] - 1s 3ms/step - loss: 0.3485 - accuracy: 0.8683 - val_loss: 0.4627 - val_accuracy: 0.8281\n",
      "Epoch 155/200\n",
      "220/220 [==============================] - 1s 3ms/step - loss: 0.3306 - accuracy: 0.8812 - val_loss: 0.4643 - val_accuracy: 0.8264\n",
      "Epoch 156/200\n",
      "220/220 [==============================] - 1s 3ms/step - loss: 0.3630 - accuracy: 0.8679 - val_loss: 0.4611 - val_accuracy: 0.8351\n",
      "Epoch 157/200\n",
      "220/220 [==============================] - 1s 3ms/step - loss: 0.3517 - accuracy: 0.8724 - val_loss: 0.4677 - val_accuracy: 0.8276\n",
      "Epoch 158/200\n",
      "220/220 [==============================] - 1s 3ms/step - loss: 0.3542 - accuracy: 0.8652 - val_loss: 0.4663 - val_accuracy: 0.8270\n",
      "Epoch 159/200\n",
      "220/220 [==============================] - 1s 3ms/step - loss: 0.3424 - accuracy: 0.8714 - val_loss: 0.4631 - val_accuracy: 0.8333\n",
      "Epoch 160/200\n",
      "220/220 [==============================] - 1s 3ms/step - loss: 0.3516 - accuracy: 0.8732 - val_loss: 0.4747 - val_accuracy: 0.8276\n",
      "Epoch 161/200\n",
      "220/220 [==============================] - 1s 3ms/step - loss: 0.3242 - accuracy: 0.8805 - val_loss: 0.4639 - val_accuracy: 0.8276\n",
      "Epoch 162/200\n",
      "220/220 [==============================] - 1s 3ms/step - loss: 0.3423 - accuracy: 0.8797 - val_loss: 0.4650 - val_accuracy: 0.8253\n",
      "Epoch 163/200\n",
      "220/220 [==============================] - 1s 3ms/step - loss: 0.3263 - accuracy: 0.8753 - val_loss: 0.4559 - val_accuracy: 0.8264\n",
      "Epoch 164/200\n",
      "220/220 [==============================] - 1s 3ms/step - loss: 0.3125 - accuracy: 0.8912 - val_loss: 0.4501 - val_accuracy: 0.8345\n",
      "Epoch 165/200\n",
      "220/220 [==============================] - 1s 3ms/step - loss: 0.3389 - accuracy: 0.8824 - val_loss: 0.4538 - val_accuracy: 0.8345\n",
      "Epoch 166/200\n",
      "220/220 [==============================] - 1s 3ms/step - loss: 0.3168 - accuracy: 0.8862 - val_loss: 0.4586 - val_accuracy: 0.8304\n",
      "Epoch 167/200\n",
      "220/220 [==============================] - 1s 3ms/step - loss: 0.3129 - accuracy: 0.8858 - val_loss: 0.4536 - val_accuracy: 0.8333\n",
      "Epoch 168/200\n",
      "220/220 [==============================] - 1s 3ms/step - loss: 0.3123 - accuracy: 0.8845 - val_loss: 0.4658 - val_accuracy: 0.8276\n",
      "Epoch 169/200\n",
      "220/220 [==============================] - 1s 3ms/step - loss: 0.3316 - accuracy: 0.8799 - val_loss: 0.4568 - val_accuracy: 0.8310\n",
      "Epoch 170/200\n",
      "220/220 [==============================] - 1s 3ms/step - loss: 0.3025 - accuracy: 0.8870 - val_loss: 0.4567 - val_accuracy: 0.8293\n",
      "Epoch 171/200\n"
     ]
    },
    {
     "name": "stdout",
     "output_type": "stream",
     "text": [
      "220/220 [==============================] - 1s 3ms/step - loss: 0.3104 - accuracy: 0.8920 - val_loss: 0.4683 - val_accuracy: 0.8310\n",
      "Epoch 172/200\n",
      "220/220 [==============================] - 1s 3ms/step - loss: 0.3302 - accuracy: 0.8817 - val_loss: 0.4641 - val_accuracy: 0.8374\n",
      "Epoch 173/200\n",
      "220/220 [==============================] - 1s 3ms/step - loss: 0.3015 - accuracy: 0.8870 - val_loss: 0.4511 - val_accuracy: 0.8258\n",
      "Epoch 174/200\n",
      "220/220 [==============================] - 1s 3ms/step - loss: 0.3413 - accuracy: 0.8780 - val_loss: 0.4541 - val_accuracy: 0.8310\n",
      "Epoch 175/200\n",
      "220/220 [==============================] - 1s 3ms/step - loss: 0.3066 - accuracy: 0.8854 - val_loss: 0.4571 - val_accuracy: 0.8304\n",
      "Epoch 176/200\n",
      "220/220 [==============================] - 1s 3ms/step - loss: 0.3214 - accuracy: 0.8880 - val_loss: 0.4502 - val_accuracy: 0.8322\n",
      "Epoch 177/200\n",
      "220/220 [==============================] - 1s 3ms/step - loss: 0.3063 - accuracy: 0.8931 - val_loss: 0.4540 - val_accuracy: 0.8328\n",
      "Epoch 178/200\n",
      "220/220 [==============================] - 1s 3ms/step - loss: 0.3074 - accuracy: 0.8897 - val_loss: 0.4523 - val_accuracy: 0.8253\n",
      "Epoch 179/200\n",
      "220/220 [==============================] - 1s 3ms/step - loss: 0.3042 - accuracy: 0.8956 - val_loss: 0.4495 - val_accuracy: 0.8281\n",
      "Epoch 180/200\n",
      "220/220 [==============================] - 1s 3ms/step - loss: 0.2754 - accuracy: 0.8987 - val_loss: 0.4526 - val_accuracy: 0.8385\n",
      "Epoch 181/200\n",
      "220/220 [==============================] - 1s 3ms/step - loss: 0.2722 - accuracy: 0.9103 - val_loss: 0.4670 - val_accuracy: 0.8281\n",
      "Epoch 182/200\n",
      "220/220 [==============================] - 1s 3ms/step - loss: 0.2845 - accuracy: 0.8961 - val_loss: 0.4516 - val_accuracy: 0.8397\n",
      "Epoch 183/200\n",
      "220/220 [==============================] - 1s 3ms/step - loss: 0.2851 - accuracy: 0.9005 - val_loss: 0.4453 - val_accuracy: 0.8368\n",
      "Epoch 184/200\n",
      "220/220 [==============================] - 1s 3ms/step - loss: 0.2977 - accuracy: 0.8948 - val_loss: 0.4524 - val_accuracy: 0.8322\n",
      "Epoch 185/200\n",
      "220/220 [==============================] - 1s 3ms/step - loss: 0.2805 - accuracy: 0.8960 - val_loss: 0.4367 - val_accuracy: 0.8397\n",
      "Epoch 186/200\n",
      "220/220 [==============================] - 1s 3ms/step - loss: 0.2910 - accuracy: 0.8930 - val_loss: 0.4735 - val_accuracy: 0.8258\n",
      "Epoch 187/200\n",
      "220/220 [==============================] - 1s 3ms/step - loss: 0.3147 - accuracy: 0.8841 - val_loss: 0.4528 - val_accuracy: 0.8333\n",
      "Epoch 188/200\n",
      "220/220 [==============================] - 1s 3ms/step - loss: 0.2809 - accuracy: 0.9011 - val_loss: 0.4554 - val_accuracy: 0.8391\n",
      "Epoch 189/200\n",
      "220/220 [==============================] - 1s 3ms/step - loss: 0.2823 - accuracy: 0.9063 - val_loss: 0.4413 - val_accuracy: 0.8362\n",
      "Epoch 190/200\n",
      "220/220 [==============================] - 1s 3ms/step - loss: 0.2884 - accuracy: 0.8884 - val_loss: 0.4605 - val_accuracy: 0.8287\n",
      "Epoch 191/200\n",
      "220/220 [==============================] - 1s 3ms/step - loss: 0.2801 - accuracy: 0.8934 - val_loss: 0.4501 - val_accuracy: 0.8408\n",
      "Epoch 192/200\n",
      "220/220 [==============================] - 1s 3ms/step - loss: 0.2774 - accuracy: 0.8976 - val_loss: 0.4607 - val_accuracy: 0.8345\n",
      "Epoch 193/200\n",
      "220/220 [==============================] - 1s 3ms/step - loss: 0.2786 - accuracy: 0.8981 - val_loss: 0.4557 - val_accuracy: 0.8368\n",
      "Epoch 194/200\n",
      "220/220 [==============================] - 1s 3ms/step - loss: 0.2609 - accuracy: 0.9019 - val_loss: 0.4477 - val_accuracy: 0.8368\n",
      "Epoch 195/200\n",
      "220/220 [==============================] - 1s 3ms/step - loss: 0.2778 - accuracy: 0.8955 - val_loss: 0.4430 - val_accuracy: 0.8356\n",
      "Epoch 196/200\n",
      "220/220 [==============================] - 1s 3ms/step - loss: 0.2577 - accuracy: 0.9090 - val_loss: 0.4559 - val_accuracy: 0.8385\n",
      "Epoch 197/200\n",
      "220/220 [==============================] - 1s 3ms/step - loss: 0.3015 - accuracy: 0.8900 - val_loss: 0.4510 - val_accuracy: 0.8333\n",
      "Epoch 198/200\n",
      "220/220 [==============================] - 1s 3ms/step - loss: 0.2578 - accuracy: 0.9087 - val_loss: 0.4469 - val_accuracy: 0.8339\n",
      "Epoch 199/200\n",
      "220/220 [==============================] - 1s 3ms/step - loss: 0.2773 - accuracy: 0.9032 - val_loss: 0.4469 - val_accuracy: 0.8385\n",
      "Epoch 200/200\n",
      "220/220 [==============================] - 1s 3ms/step - loss: 0.2752 - accuracy: 0.9034 - val_loss: 0.4474 - val_accuracy: 0.8420\n"
     ]
    }
   ],
   "source": [
    "cnnhistory=model.fit(x_traincnn, y_train, batch_size=16, epochs=200, validation_data=(x_testcnn, y_test))"
   ]
  },
  {
   "cell_type": "code",
   "execution_count": 25,
   "metadata": {
    "colab": {
     "base_uri": "https://localhost:8080/",
     "height": 295
    },
    "colab_type": "code",
    "id": "WEomk3HUOwSz",
    "outputId": "1cde7e1d-64a5-4c41-b1ef-b68f08982e49"
   },
   "outputs": [
    {
     "data": {
      "image/png": "[encoded data removed]",
      "text/plain": [
       "<Figure size 432x288 with 1 Axes>"
      ]
     },
     "metadata": {
      "needs_background": "light"
     },
     "output_type": "display_data"
    }
   ],
   "source": [
    "plt.plot(cnnhistory.history['loss'])\n",
    "plt.plot(cnnhistory.history['val_loss'])\n",
    "plt.title('model loss')\n",
    "plt.ylabel('loss')\n",
    "plt.xlabel('epoch')\n",
    "plt.legend(['train', 'test'], loc='upper left')\n",
    "plt.show()"
   ]
  },
  {
   "cell_type": "code",
   "execution_count": 26,
   "metadata": {
    "colab": {
     "base_uri": "https://localhost:8080/",
     "height": 295
    },
    "colab_type": "code",
    "id": "n4UNnOn80S_3",
    "outputId": "37e334a6-5adf-4fbb-c478-070c5501c5b3"
   },
   "outputs": [
    {
     "data": {
      "image/png": "[encoded data removed]",
      "text/plain": [
       "<Figure size 432x288 with 1 Axes>"
      ]
     },
     "metadata": {
      "needs_background": "light"
     },
     "output_type": "display_data"
    }
   ],
   "source": [
    "plt.plot(cnnhistory.history['accuracy'])\n",
    "plt.plot(cnnhistory.history['val_accuracy'])\n",
    "plt.title('model accuracy')\n",
    "plt.ylabel('accuracy')\n",
    "plt.xlabel('epoch')\n",
    "plt.legend(['train', 'test'], loc='upper left')\n",
    "plt.show()"
   ]
  },
  {
   "cell_type": "code",
   "execution_count": 27,
   "metadata": {
    "colab": {},
    "colab_type": "code",
    "id": "CSR0-VCVPO81"
   },
   "outputs": [
    {
     "name": "stderr",
     "output_type": "stream",
     "text": [
      "/home/aksultan/.local/lib/python3.8/site-packages/tensorflow/python/keras/engine/sequential.py:450: UserWarning: `model.predict_classes()` is deprecated and will be removed after 2021-01-01. Please use instead:* `np.argmax(model.predict(x), axis=-1)`,   if your model does multi-class classification   (e.g. if it uses a `softmax` last-layer activation).* `(model.predict(x) > 0.5).astype(\"int32\")`,   if your model does binary classification   (e.g. if it uses a `sigmoid` last-layer activation).\n",
      "  warnings.warn('`model.predict_classes()` is deprecated and '\n"
     ]
    }
   ],
   "source": [
    "predictions = model.predict_classes(x_testcnn)"
   ]
  },
  {
   "cell_type": "code",
   "execution_count": 28,
   "metadata": {
    "colab": {
     "base_uri": "https://localhost:8080/",
     "height": 35
    },
    "colab_type": "code",
    "id": "7uKNuzd6PVZi",
    "outputId": "44bc4bc2-057e-47a5-ee3e-8cef839277d3"
   },
   "outputs": [
    {
     "data": {
      "text/plain": [
       "array([3, 3, 3, ..., 1, 6, 2])"
      ]
     },
     "execution_count": 28,
     "metadata": {},
     "output_type": "execute_result"
    }
   ],
   "source": [
    "predictions"
   ]
  },
  {
   "cell_type": "code",
   "execution_count": 29,
   "metadata": {
    "colab": {
     "base_uri": "https://localhost:8080/",
     "height": 35
    },
    "colab_type": "code",
    "id": "GhfXlBdJQFr9",
    "outputId": "500b7540-7641-41eb-fba1-e7dd0a49c475"
   },
   "outputs": [
    {
     "data": {
      "text/plain": [
       "array([3, 3, 3, ..., 1, 6, 2], dtype=int32)"
      ]
     },
     "execution_count": 29,
     "metadata": {},
     "output_type": "execute_result"
    }
   ],
   "source": [
    "y_test"
   ]
  },
  {
   "cell_type": "code",
   "execution_count": 30,
   "metadata": {
    "colab": {},
    "colab_type": "code",
    "id": "FC1heRemQJHA"
   },
   "outputs": [],
   "source": [
    "new_Ytest = y_test.astype(int)"
   ]
  },
  {
   "cell_type": "code",
   "execution_count": 31,
   "metadata": {
    "colab": {
     "base_uri": "https://localhost:8080/",
     "height": 35
    },
    "colab_type": "code",
    "id": "65ZqfKMHQNBY",
    "outputId": "d1f51eb3-ab89-492a-adc3-0d770a342096"
   },
   "outputs": [
    {
     "data": {
      "text/plain": [
       "array([3, 3, 3, ..., 1, 6, 2])"
      ]
     },
     "execution_count": 31,
     "metadata": {},
     "output_type": "execute_result"
    }
   ],
   "source": [
    "new_Ytest"
   ]
  },
  {
   "cell_type": "code",
   "execution_count": 32,
   "metadata": {
    "colab": {
     "base_uri": "https://localhost:8080/",
     "height": 284
    },
    "colab_type": "code",
    "id": "wK2gsnN-QO1C",
    "outputId": "fdd8cf81-901f-42a9-ac51-0cbe2fbad867"
   },
   "outputs": [
    {
     "name": "stdout",
     "output_type": "stream",
     "text": [
      "              precision    recall  f1-score   support\n",
      "\n",
      "           0       0.88      0.88      0.88       192\n",
      "           1       0.73      0.82      0.77       123\n",
      "           2       0.80      0.82      0.81       264\n",
      "           3       0.91      0.76      0.83       275\n",
      "           4       0.87      0.91      0.89       252\n",
      "           5       0.82      0.83      0.82       241\n",
      "           6       0.88      0.86      0.87       197\n",
      "           7       0.82      0.86      0.84       190\n",
      "\n",
      "    accuracy                           0.84      1734\n",
      "   macro avg       0.84      0.84      0.84      1734\n",
      "weighted avg       0.84      0.84      0.84      1734\n",
      "\n"
     ]
    }
   ],
   "source": [
    "from sklearn.metrics import classification_report\n",
    "report = classification_report(new_Ytest, predictions)\n",
    "print(report)"
   ]
  },
  {
   "cell_type": "code",
   "execution_count": 33,
   "metadata": {
    "colab": {
     "base_uri": "https://localhost:8080/",
     "height": 159
    },
    "colab_type": "code",
    "id": "XipKuFRTQSFj",
    "outputId": "c55049fe-4461-4899-e70a-87555479dd4c"
   },
   "outputs": [
    {
     "name": "stdout",
     "output_type": "stream",
     "text": [
      "[[169   7   4   4   1   1   1   5]\n",
      " [  4 101  12   0   0   3   2   1]\n",
      " [  1  12 217   0  13  12   3   6]\n",
      " [  6   9  14 210   6  17   5   8]\n",
      " [  2   2   5   0 229   5   6   3]\n",
      " [  5   1   8  14   8 200   2   3]\n",
      " [  5   5   3   0   3   1 170  10]\n",
      " [  1   1   8   2   4   5   5 164]]\n"
     ]
    }
   ],
   "source": [
    "from sklearn.metrics import confusion_matrix\n",
    "matrix = confusion_matrix(new_Ytest, predictions)\n",
    "print (matrix)\n",
    "\n",
    "# 0 = neutral, 1 = calm, 2 = happy, 3 = sad, 4 = angry, 5 = fearful, 6 = disgust, 7 = surprised"
   ]
  },
  {
   "cell_type": "code",
   "execution_count": 34,
   "metadata": {
    "colab": {
     "base_uri": "https://localhost:8080/",
     "height": 35
    },
    "colab_type": "code",
    "id": "ORm3pz9NQdlW",
    "outputId": "a50537b9-f833-4d66-cafb-eec3f3fd219a"
   },
   "outputs": [
    {
     "name": "stdout",
     "output_type": "stream",
     "text": [
      "MODEL SAVED\n"
     ]
    }
   ],
   "source": [
    "model.save('testing10_model.h5')\n",
    "print(\"MODEL SAVED\")"
   ]
  },
  {
   "cell_type": "code",
   "execution_count": 35,
   "metadata": {
    "colab": {
     "base_uri": "https://localhost:8080/",
     "height": 657
    },
    "colab_type": "code",
    "id": "6aFHzp7PQvMJ",
    "outputId": "fcd82c73-683a-4dde-c866-aafaa285fa66"
   },
   "outputs": [
    {
     "name": "stdout",
     "output_type": "stream",
     "text": [
      "Model: \"sequential_1\"\n",
      "_________________________________________________________________\n",
      "Layer (type)                 Output Shape              Param #   \n",
      "=================================================================\n",
      "conv1d_3 (Conv1D)            (None, 40, 64)            384       \n",
      "_________________________________________________________________\n",
      "activation_4 (Activation)    (None, 40, 64)            0         \n",
      "_________________________________________________________________\n",
      "dropout_3 (Dropout)          (None, 40, 64)            0         \n",
      "_________________________________________________________________\n",
      "max_pooling1d_2 (MaxPooling1 (None, 10, 64)            0         \n",
      "_________________________________________________________________\n",
      "conv1d_4 (Conv1D)            (None, 10, 128)           41088     \n",
      "_________________________________________________________________\n",
      "activation_5 (Activation)    (None, 10, 128)           0         \n",
      "_________________________________________________________________\n",
      "dropout_4 (Dropout)          (None, 10, 128)           0         \n",
      "_________________________________________________________________\n",
      "max_pooling1d_3 (MaxPooling1 (None, 2, 128)            0         \n",
      "_________________________________________________________________\n",
      "conv1d_5 (Conv1D)            (None, 2, 256)            164096    \n",
      "_________________________________________________________________\n",
      "activation_6 (Activation)    (None, 2, 256)            0         \n",
      "_________________________________________________________________\n",
      "dropout_5 (Dropout)          (None, 2, 256)            0         \n",
      "_________________________________________________________________\n",
      "flatten_1 (Flatten)          (None, 512)               0         \n",
      "_________________________________________________________________\n",
      "dense_1 (Dense)              (None, 8)                 4104      \n",
      "_________________________________________________________________\n",
      "activation_7 (Activation)    (None, 8)                 0         \n",
      "=================================================================\n",
      "Total params: 209,672\n",
      "Trainable params: 209,672\n",
      "Non-trainable params: 0\n",
      "_________________________________________________________________\n"
     ]
    }
   ],
   "source": [
    "new_model=keras.models.load_model('testing10_model.h5')\n",
    "new_model.summary()"
   ]
  },
  {
   "cell_type": "code",
   "execution_count": 36,
   "metadata": {
    "colab": {
     "base_uri": "https://localhost:8080/",
     "height": 52
    },
    "colab_type": "code",
    "id": "whzXUxB5Q06g",
    "outputId": "95bca73d-1171-4b97-c46f-2c7c74e5587b"
   },
   "outputs": [
    {
     "name": "stdout",
     "output_type": "stream",
     "text": [
      "55/55 [==============================] - 0s 945us/step - loss: 0.4474 - accuracy: 0.8420\n",
      "Restored model, accuracy: 84.20%\n"
     ]
    }
   ],
   "source": [
    "loss, acc = new_model.evaluate(x_testcnn, y_test)\n",
    "print(\"Restored model, accuracy: {:5.2f}%\".format(100*acc))"
   ]
  },
  {
   "cell_type": "code",
   "execution_count": null,
   "metadata": {
    "colab": {},
    "colab_type": "code",
    "id": "r6n31dxyQ5Sp"
   },
   "outputs": [],
   "source": []
  }
 ],
 "metadata": {
  "colab": {
   "collapsed_sections": [],
   "name": "Testing10(Deep Learning).ipynb",
   "provenance": []
  },
  "kernelspec": {
   "display_name": "Python 3",
   "language": "python",
   "name": "python3"
  },
  "language_info": {
   "codemirror_mode": {
    "name": "ipython",
    "version": 3
   },
   "file_extension": ".py",
   "mimetype": "text/x-python",
   "name": "python",
   "nbconvert_exporter": "python",
   "pygments_lexer": "ipython3",
   "version": "3.8.5"
  }
 },
 "nbformat": 4,
 "nbformat_minor": 1
}
